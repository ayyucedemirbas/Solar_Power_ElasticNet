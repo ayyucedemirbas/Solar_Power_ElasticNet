{
 "cells": [
  {
   "cell_type": "code",
   "execution_count": 1,
   "id": "1319e1bb",
   "metadata": {},
   "outputs": [],
   "source": [
    "import pandas as pd\n",
    "import numpy as np"
   ]
  },
  {
   "cell_type": "code",
   "execution_count": 2,
   "id": "e5085929",
   "metadata": {},
   "outputs": [],
   "source": [
    "solar_pw = pd.read_csv('./solar_power_generation.csv')"
   ]
  },
  {
   "cell_type": "code",
   "execution_count": 3,
   "id": "ddad08a9",
   "metadata": {},
   "outputs": [],
   "source": [
    "X = solar_pw[['DAILY_YIELD','TOTAL_YIELD','AMBIENT_TEMPERATURE','MODULE_TEMPERATURE','IRRADIATION','DC_POWER']]\n",
    "y = solar_pw['AC_POWER']"
   ]
  },
  {
   "cell_type": "code",
   "execution_count": 4,
   "id": "f6c12c2e",
   "metadata": {},
   "outputs": [],
   "source": [
    "from sklearn.model_selection import train_test_split\n",
    "X_train,X_test,y_train,y_test = train_test_split(X,y,test_size=.2,random_state=21)"
   ]
  },
  {
   "cell_type": "code",
   "execution_count": 5,
   "id": "943de86d",
   "metadata": {},
   "outputs": [
    {
     "data": {
      "text/plain": [
       "ElasticNet(random_state=0)"
      ]
     },
     "execution_count": 5,
     "metadata": {},
     "output_type": "execute_result"
    }
   ],
   "source": [
    "from sklearn.linear_model import ElasticNet\n",
    "model = ElasticNet(random_state=0)\n",
    "model.fit(X_train,y_train)"
   ]
  },
  {
   "cell_type": "code",
   "execution_count": 6,
   "id": "95533f08",
   "metadata": {},
   "outputs": [
    {
     "data": {
      "text/plain": [
       "0.9999937122356861"
      ]
     },
     "execution_count": 6,
     "metadata": {},
     "output_type": "execute_result"
    }
   ],
   "source": [
    "model.score(X_test,y_test)"
   ]
  },
  {
   "cell_type": "code",
   "execution_count": 7,
   "id": "f7b976cd",
   "metadata": {},
   "outputs": [],
   "source": [
    "prediction= model.predict(X_test)"
   ]
  },
  {
   "cell_type": "code",
   "execution_count": 8,
   "id": "63968f2a",
   "metadata": {},
   "outputs": [
    {
     "data": {
      "text/plain": [
       "array([3.24212737e-01, 1.85999599e+02, 9.70434883e+02, ...,\n",
       "       2.00685572e-01, 2.04932484e-01, 3.61150814e+02])"
      ]
     },
     "execution_count": 8,
     "metadata": {},
     "output_type": "execute_result"
    }
   ],
   "source": [
    "prediction"
   ]
  },
  {
   "cell_type": "code",
   "execution_count": 9,
   "id": "61f95bd4",
   "metadata": {},
   "outputs": [],
   "source": [
    "actual_predicted = pd.DataFrame({'Actual' : y_test , 'Predicted' : prediction})"
   ]
  },
  {
   "cell_type": "code",
   "execution_count": 10,
   "id": "13e51b04",
   "metadata": {},
   "outputs": [
    {
     "data": {
      "text/html": [
       "<div>\n",
       "<style scoped>\n",
       "    .dataframe tbody tr th:only-of-type {\n",
       "        vertical-align: middle;\n",
       "    }\n",
       "\n",
       "    .dataframe tbody tr th {\n",
       "        vertical-align: top;\n",
       "    }\n",
       "\n",
       "    .dataframe thead th {\n",
       "        text-align: right;\n",
       "    }\n",
       "</style>\n",
       "<table border=\"1\" class=\"dataframe\">\n",
       "  <thead>\n",
       "    <tr style=\"text-align: right;\">\n",
       "      <th></th>\n",
       "      <th>Actual</th>\n",
       "      <th>Predicted</th>\n",
       "    </tr>\n",
       "  </thead>\n",
       "  <tbody>\n",
       "    <tr>\n",
       "      <th>39704</th>\n",
       "      <td>0.000000</td>\n",
       "      <td>0.324213</td>\n",
       "    </tr>\n",
       "    <tr>\n",
       "      <th>16578</th>\n",
       "      <td>186.325000</td>\n",
       "      <td>185.999599</td>\n",
       "    </tr>\n",
       "    <tr>\n",
       "      <th>38467</th>\n",
       "      <td>971.014286</td>\n",
       "      <td>970.434883</td>\n",
       "    </tr>\n",
       "    <tr>\n",
       "      <th>19471</th>\n",
       "      <td>0.000000</td>\n",
       "      <td>0.340822</td>\n",
       "    </tr>\n",
       "    <tr>\n",
       "      <th>21836</th>\n",
       "      <td>0.000000</td>\n",
       "      <td>0.308717</td>\n",
       "    </tr>\n",
       "    <tr>\n",
       "      <th>...</th>\n",
       "      <td>...</td>\n",
       "      <td>...</td>\n",
       "    </tr>\n",
       "    <tr>\n",
       "      <th>10459</th>\n",
       "      <td>0.000000</td>\n",
       "      <td>0.295123</td>\n",
       "    </tr>\n",
       "    <tr>\n",
       "      <th>27264</th>\n",
       "      <td>0.000000</td>\n",
       "      <td>0.220551</td>\n",
       "    </tr>\n",
       "    <tr>\n",
       "      <th>19030</th>\n",
       "      <td>0.000000</td>\n",
       "      <td>0.200686</td>\n",
       "    </tr>\n",
       "    <tr>\n",
       "      <th>12827</th>\n",
       "      <td>0.000000</td>\n",
       "      <td>0.204932</td>\n",
       "    </tr>\n",
       "    <tr>\n",
       "      <th>31753</th>\n",
       "      <td>363.050000</td>\n",
       "      <td>361.150814</td>\n",
       "    </tr>\n",
       "  </tbody>\n",
       "</table>\n",
       "<p>9136 rows × 2 columns</p>\n",
       "</div>"
      ],
      "text/plain": [
       "           Actual   Predicted\n",
       "39704    0.000000    0.324213\n",
       "16578  186.325000  185.999599\n",
       "38467  971.014286  970.434883\n",
       "19471    0.000000    0.340822\n",
       "21836    0.000000    0.308717\n",
       "...           ...         ...\n",
       "10459    0.000000    0.295123\n",
       "27264    0.000000    0.220551\n",
       "19030    0.000000    0.200686\n",
       "12827    0.000000    0.204932\n",
       "31753  363.050000  361.150814\n",
       "\n",
       "[9136 rows x 2 columns]"
      ]
     },
     "execution_count": 10,
     "metadata": {},
     "output_type": "execute_result"
    }
   ],
   "source": [
    "actual_predicted"
   ]
  },
  {
   "cell_type": "code",
   "execution_count": 11,
   "id": "d3ba39a8",
   "metadata": {},
   "outputs": [],
   "source": [
    "actual_predicted['Error'] = actual_predicted['Actual'] - actual_predicted['Predicted']"
   ]
  },
  {
   "cell_type": "code",
   "execution_count": 12,
   "id": "07a908da",
   "metadata": {},
   "outputs": [
    {
     "data": {
      "text/html": [
       "<div>\n",
       "<style scoped>\n",
       "    .dataframe tbody tr th:only-of-type {\n",
       "        vertical-align: middle;\n",
       "    }\n",
       "\n",
       "    .dataframe tbody tr th {\n",
       "        vertical-align: top;\n",
       "    }\n",
       "\n",
       "    .dataframe thead th {\n",
       "        text-align: right;\n",
       "    }\n",
       "</style>\n",
       "<table border=\"1\" class=\"dataframe\">\n",
       "  <thead>\n",
       "    <tr style=\"text-align: right;\">\n",
       "      <th></th>\n",
       "      <th>Actual</th>\n",
       "      <th>Predicted</th>\n",
       "      <th>Error</th>\n",
       "    </tr>\n",
       "  </thead>\n",
       "  <tbody>\n",
       "    <tr>\n",
       "      <th>39704</th>\n",
       "      <td>0.000000</td>\n",
       "      <td>0.324213</td>\n",
       "      <td>-0.324213</td>\n",
       "    </tr>\n",
       "    <tr>\n",
       "      <th>16578</th>\n",
       "      <td>186.325000</td>\n",
       "      <td>185.999599</td>\n",
       "      <td>0.325401</td>\n",
       "    </tr>\n",
       "    <tr>\n",
       "      <th>38467</th>\n",
       "      <td>971.014286</td>\n",
       "      <td>970.434883</td>\n",
       "      <td>0.579403</td>\n",
       "    </tr>\n",
       "    <tr>\n",
       "      <th>19471</th>\n",
       "      <td>0.000000</td>\n",
       "      <td>0.340822</td>\n",
       "      <td>-0.340822</td>\n",
       "    </tr>\n",
       "    <tr>\n",
       "      <th>21836</th>\n",
       "      <td>0.000000</td>\n",
       "      <td>0.308717</td>\n",
       "      <td>-0.308717</td>\n",
       "    </tr>\n",
       "  </tbody>\n",
       "</table>\n",
       "</div>"
      ],
      "text/plain": [
       "           Actual   Predicted     Error\n",
       "39704    0.000000    0.324213 -0.324213\n",
       "16578  186.325000  185.999599  0.325401\n",
       "38467  971.014286  970.434883  0.579403\n",
       "19471    0.000000    0.340822 -0.340822\n",
       "21836    0.000000    0.308717 -0.308717"
      ]
     },
     "execution_count": 12,
     "metadata": {},
     "output_type": "execute_result"
    }
   ],
   "source": [
    "actual_predicted.head()"
   ]
  },
  {
   "cell_type": "code",
   "execution_count": null,
   "id": "e6897d15",
   "metadata": {},
   "outputs": [],
   "source": [
    "import sklearn\n",
    "from skops import hub_utils\n",
    "import pickle\n",
    "\n",
    "# let's save the model\n",
    "model_path = \"./solar.pkl\"\n",
    "local_repo = \"my-solar-model\"\n",
    "with open(model_path, mode=\"bw\") as f:\n",
    "    pickle.dump(model, file=f)\n",
    "\n",
    "# we will now initialize a local repository\n",
    "hub_utils.init(\n",
    "    model=model_path, \n",
    "    requirements=[f\"scikit-learn={sklearn.__version__}\"], \n",
    "    dst=local_repo,\n",
    "    task=\"tabular-regression\",\n",
    "    data=X_test,\n",
    ")"
   ]
  },
  {
   "cell_type": "code",
   "execution_count": null,
   "id": "24493740",
   "metadata": {},
   "outputs": [],
   "source": [
    "from skops import card\n",
    "\n",
    "# create the card \n",
    "model_card = card.Card(model, metadata=card.metadata_from_config(local_repo))\n",
    "\n",
    "limitations = \"This model is not ready to be used in production.\"\n",
    "model_description = \"This is a LinearRegression model trained on Solar Power Generation Data.\"\n",
    "model_card_authors = \"ayyuce demirbas\"\n",
    "get_started_code = \"import pickle \\nwith open(dtc_pkl_filename, 'rb') as file: \\n    clf = pickle.load(file)\"\n",
    "citation_bibtex = \"bibtex\\n@inproceedings{...,year={2022}}\"\n",
    "\n",
    "# we can add the information using add\n",
    "model_card.add(\n",
    "    citation_bibtex=citation_bibtex,\n",
    "    get_started_code=get_started_code,\n",
    "    model_card_authors=model_card_authors,\n",
    "    limitations=limitations,\n",
    "    model_description=model_description,\n",
    ")\n",
    "\n",
    "# we can set the metadata part directly\n",
    "model_card.metadata.license = \"gnu\""
   ]
  },
  {
   "cell_type": "code",
   "execution_count": null,
   "id": "3db96a7b",
   "metadata": {},
   "outputs": [],
   "source": [
    "model_card.add(eval_method=\"The model is evaluated using test split, on accuracy.\")\n",
    "model_card.add_metrics(accuracy= 100 * model.score(X_test,y_test))"
   ]
  },
  {
   "cell_type": "code",
   "execution_count": null,
   "id": "6ae1efc9",
   "metadata": {},
   "outputs": [],
   "source": [
    "model_card.save(local_repo + \"/README.md\")"
   ]
  },
  {
   "cell_type": "code",
   "execution_count": null,
   "id": "ac0753a4",
   "metadata": {},
   "outputs": [],
   "source": [
    "token = 'your_awesome_token'"
   ]
  },
  {
   "cell_type": "code",
   "execution_count": null,
   "id": "d45dd2a0",
   "metadata": {},
   "outputs": [],
   "source": [
    "repo_id = \"ayyuce/my_solar_model\"\n",
    "hub_utils.push(\n",
    "    repo_id=repo_id,\n",
    "    source=local_repo,\n",
    "    token=token,\n",
    "    commit_message=\"pushing files to the repo from the example!\",\n",
    "    create_remote=True,\n",
    ")"
   ]
  }
 ],
 "metadata": {
  "kernelspec": {
   "display_name": "Python 3 (ipykernel)",
   "language": "python",
   "name": "python3"
  },
  "language_info": {
   "codemirror_mode": {
    "name": "ipython",
    "version": 3
   },
   "file_extension": ".py",
   "mimetype": "text/x-python",
   "name": "python",
   "nbconvert_exporter": "python",
   "pygments_lexer": "ipython3",
   "version": "3.8.12"
  }
 },
 "nbformat": 4,
 "nbformat_minor": 5
}
